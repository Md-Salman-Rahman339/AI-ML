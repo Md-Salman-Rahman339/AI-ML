{
  "nbformat": 4,
  "nbformat_minor": 0,
  "metadata": {
    "colab": {
      "provenance": [],
      "authorship_tag": "ABX9TyPSH7Oe3N16Uv/0TUwYwoJI",
      "include_colab_link": true
    },
    "kernelspec": {
      "name": "python3",
      "display_name": "Python 3"
    },
    "language_info": {
      "name": "python"
    }
  },
  "cells": [
    {
      "cell_type": "markdown",
      "metadata": {
        "id": "view-in-github",
        "colab_type": "text"
      },
      "source": [
        "<a href=\"https://colab.research.google.com/github/Md-Salman-Rahman339/AI-ML/blob/main/OOP.ipynb\" target=\"_parent\"><img src=\"https://colab.research.google.com/assets/colab-badge.svg\" alt=\"Open In Colab\"/></a>"
      ]
    },
    {
      "cell_type": "code",
      "execution_count": null,
      "metadata": {
        "id": "ikXMcu_bkiEt"
      },
      "outputs": [],
      "source": [
        "class Phone:\n",
        "  category=\"Electronics\"\n",
        "\n",
        "  def __init__(self,model,battery,camera,battery_percentage=100):\n",
        "    self.model=model\n",
        "    self.battery=battery\n",
        "    self.camera=camera\n",
        "    self.battery_percentage=battery_percentage"
      ]
    }
  ]
}