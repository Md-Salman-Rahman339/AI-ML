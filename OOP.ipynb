{
  "nbformat": 4,
  "nbformat_minor": 0,
  "metadata": {
    "colab": {
      "provenance": [],
      "authorship_tag": "ABX9TyPaDlCgfPSxb2V6/d6qRZra",
      "include_colab_link": true
    },
    "kernelspec": {
      "name": "python3",
      "display_name": "Python 3"
    },
    "language_info": {
      "name": "python"
    }
  },
  "cells": [
    {
      "cell_type": "markdown",
      "metadata": {
        "id": "view-in-github",
        "colab_type": "text"
      },
      "source": [
        "<a href=\"https://colab.research.google.com/github/Md-Salman-Rahman339/AI-ML/blob/main/OOP.ipynb\" target=\"_parent\"><img src=\"https://colab.research.google.com/assets/colab-badge.svg\" alt=\"Open In Colab\"/></a>"
      ]
    },
    {
      "cell_type": "code",
      "execution_count": 6,
      "metadata": {
        "id": "ikXMcu_bkiEt"
      },
      "outputs": [],
      "source": [
        "class Phone:\n",
        "  category=\"Electronics\"\n",
        "\n",
        "  def __init__(self,model,battery,camera,battery_percentage=100):\n",
        "    self.model=model\n",
        "    self.battery=battery\n",
        "    self.camera=camera\n",
        "    self.battery_percentage=battery_percentage\n",
        "\n",
        "  def charge(self,hour):\n",
        "    print(f\"Charge completed by {hour}\")\n",
        "\n",
        "\n",
        "  def capture(self,photo):\n",
        "    if(self.battery_percentage)<=0:\n",
        "      print(\"No charge\")\n",
        "    else:\n",
        "      self.battery_percentage-=photo\n",
        "      print(f\"photo captured in {self.model}\")\n",
        "\n",
        "class Cooling_Mechanism:\n",
        "  def __init__(self,cooling_method):\n",
        "    self.cooling_method= cooling_method\n",
        "\n",
        "\n",
        "  def cooling_on(self):\n",
        "    print(f\"the system is being cool by {self.cooling_method}\")\n",
        "\n",
        "\n",
        "\n"
      ]
    },
    {
      "cell_type": "code",
      "source": [
        "apple=Phone(\"Iphone17\",3000,40)\n",
        "apple.capture(10)\n",
        "print(apple.battery_percentage)"
      ],
      "metadata": {
        "colab": {
          "base_uri": "https://localhost:8080/"
        },
        "id": "-jz82vQFotxB",
        "outputId": "579750c3-30c8-4693-a2b5-0278c23635c8"
      },
      "execution_count": 9,
      "outputs": [
        {
          "output_type": "stream",
          "name": "stdout",
          "text": [
            "photo captured in Iphone\n",
            "90\n"
          ]
        }
      ]
    },
    {
      "cell_type": "code",
      "source": [
        "# Single Inheritance\n",
        "class SmartPhone(Phone):\n",
        "  def __init__(self, model, battery, camera,processor, battery_percentage=100):\n",
        "    super().__init__(model, battery, camera, battery_percentage)\n",
        "    self.processor=processor\n",
        "\n",
        "  def charge(self, hour):\n",
        "    print(\"fast charging in process\")\n",
        "    return super().charge(hour)\n",
        "\n"
      ],
      "metadata": {
        "id": "trj-2S3Np9gS"
      },
      "execution_count": null,
      "outputs": []
    },
    {
      "cell_type": "code",
      "source": [
        "# Single Inheritance\n",
        "class SmartPhone(Phone):\n",
        "  def __init__(self, model, battery, camera,processor, battery_percentage=100):\n",
        "    super().__init__(model, battery, camera, battery_percentage)\n",
        "    self.processor=processor\n",
        "\n",
        "  def charge(self, hour):\n",
        "    print(\"fast charging in process\")\n",
        "    return super().charge(hour)\n",
        "\n",
        "pro = SmartPhone(\"X\", 5000, 100, \"SnapDragon\")\n",
        "print(pro.model)\n",
        "pro.charge(1)"
      ],
      "metadata": {
        "colab": {
          "base_uri": "https://localhost:8080/"
        },
        "id": "2RiLI1hTrEKI",
        "outputId": "5d93660b-d71f-4982-c07f-a9ffa7ede65c"
      },
      "execution_count": 14,
      "outputs": [
        {
          "output_type": "stream",
          "name": "stdout",
          "text": [
            "X\n",
            "fast charging in process\n",
            "Charge completed by 1\n"
          ]
        }
      ]
    },
    {
      "cell_type": "code",
      "source": [],
      "metadata": {
        "id": "T1U_4ZYgrjUa"
      },
      "execution_count": null,
      "outputs": []
    }
  ]
}